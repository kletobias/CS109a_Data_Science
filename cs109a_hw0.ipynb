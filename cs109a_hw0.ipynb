{
 "cells": [
  {
   "cell_type": "markdown",
   "metadata": {},
   "source": [
    "### CS 109A/STAT 121A/AC 209A/CSCI E-109A\n",
    "\n",
    "# Homework 0\n",
    "\n",
    "**Harvard University**<br/>\n",
    "**Fall 2017**<br/>\n",
    "**Instructors**: Pavlos Protopapas, Kevin Rader, Rahul Dave, Margo Levine\n",
    "\n",
    "---\n",
    "\n",
    "This is a homework which you must  turn in.\n",
    "\n",
    "This homework has the following intentions:\n",
    "\n",
    "1. To get you familiar with the jupyter/python environment (whether you are using your own install or jupyterhub)\n",
    "2. You should easily understand these questions and what is being asked. If you struggle, this may not be the right class for you.\n",
    "3. You should be able to understand the intent (if not the exact syntax) of the code and be able to look up google and provide code that is asked of you. If you cannot, this may not be the right class for you."
   ]
  },
  {
   "cell_type": "code",
   "execution_count": 18,
   "metadata": {
    "collapsed": true
   },
   "outputs": [],
   "source": [
    "# The line %... is a jupyter \"magic\" command, and is not part of the Python language.\n",
    "# In this case we're just telling the plotting library to draw things on\n",
    "# the notebook, instead of on a separate window.\n",
    "%matplotlib inline\n",
    "# See the \"import ... as ...\" contructs below? They're just aliasing the package names.\n",
    "# That way we can call methods like plt.plot() instead of matplotlib.pyplot.plot().\n",
    "import numpy as np\n",
    "import matplotlib.pyplot as plt"
   ]
  },
  {
   "cell_type": "markdown",
   "metadata": {},
   "source": [
    "## Simulation of a coin throw\n",
    "\n",
    "We dont have a coin right now. So let us **simulate** the process of throwing one on a computer. To do this we will use a form of the **random number generator** built into `numpy`. In particular, we will use the function `np.random.choice`, which will pick items with uniform probability from a list (thus if the list is of size 6, it will pick one of the six list items each time, with a probability 1/6). "
   ]
  },
  {
   "cell_type": "code",
   "execution_count": 19,
   "metadata": {},
   "outputs": [
    {
     "name": "stdout",
     "output_type": "stream",
     "text": [
      "Throws ['H' 'T' 'T' 'H' 'T' 'T' 'H' 'T' 'T' 'H' 'T' 'H' 'H' 'H' 'T' 'T' 'H' 'T'\n",
      " 'H' 'T' 'T' 'H' 'H' 'T' 'H' 'T' 'H' 'H' 'T' 'T' 'T' 'H' 'H' 'T' 'T' 'H'\n",
      " 'H' 'H' 'T' 'T']\n"
     ]
    }
   ],
   "source": [
    "def throw_a_coin(N):\n",
    "    return np.random.choice(['H','T'], size=N)\n",
    "\n",
    "throws = throw_a_coin(40)\n",
    "print(\"Throws\",throws)"
   ]
  },
  {
   "cell_type": "markdown",
   "metadata": {},
   "source": [
    "This next line gives you a `True` when the array element is a 'H' and `False` otherwise."
   ]
  },
  {
   "cell_type": "code",
   "execution_count": 20,
   "metadata": {},
   "outputs": [
    {
     "data": {
      "text/plain": [
       "array([ True, False, False,  True, False, False,  True, False, False,\n",
       "        True, False,  True,  True,  True, False, False,  True, False,\n",
       "        True, False, False,  True,  True, False,  True, False,  True,\n",
       "        True, False, False, False,  True,  True, False, False,  True,\n",
       "        True,  True, False, False], dtype=bool)"
      ]
     },
     "execution_count": 20,
     "metadata": {},
     "output_type": "execute_result"
    }
   ],
   "source": [
    "throws == 'H'"
   ]
  },
  {
   "cell_type": "markdown",
   "metadata": {},
   "source": [
    "If you do a `np.sum` on the array of `True`s and `False`s, python will coerce the `True` to 1 and `False` to 0. Thus a sum will give you the number of heads"
   ]
  },
  {
   "cell_type": "code",
   "execution_count": 21,
   "metadata": {},
   "outputs": [
    {
     "data": {
      "text/plain": [
       "19"
      ]
     },
     "execution_count": 21,
     "metadata": {},
     "output_type": "execute_result"
    }
   ],
   "source": [
    "np.sum(throws == 'H')"
   ]
  },
  {
   "cell_type": "code",
   "execution_count": 22,
   "metadata": {},
   "outputs": [
    {
     "name": "stdout",
     "output_type": "stream",
     "text": [
      "Number of Heads: 19\n",
      "p1 = Number of Heads/Total Throws: 0.475\n"
     ]
    }
   ],
   "source": [
    "print(\"Number of Heads:\", np.sum(throws == 'H'))\n",
    "print(\"p1 = Number of Heads/Total Throws:\", np.sum(throws == 'H')/40.) # you can also do np.mean(throws=='H')"
   ]
  },
  {
   "cell_type": "markdown",
   "metadata": {},
   "source": [
    "Notice that you do not necessarily get 20 heads.\n",
    "\n",
    "Now say that we run the entire process again, a second **replication** to obtain a second sample. Then we ask the same question: what is the fraction of heads we get this time? Lets call the odds of heads in sample 2, then, $p_2$:"
   ]
  },
  {
   "cell_type": "code",
   "execution_count": 23,
   "metadata": {},
   "outputs": [
    {
     "name": "stdout",
     "output_type": "stream",
     "text": [
      "Throws: ['T' 'H' 'H' 'H' 'H' 'H' 'H' 'T' 'T' 'T' 'T' 'T' 'H' 'H' 'H' 'T' 'T' 'T'\n",
      " 'H' 'H' 'H' 'H' 'H' 'T' 'H' 'H' 'H' 'T' 'H' 'H' 'T' 'T' 'T' 'H' 'H' 'H'\n",
      " 'H' 'H' 'H' 'T']\n",
      "Number of Heads: 25\n",
      "p2 = Number of Heads/Total Throws: 0.625\n"
     ]
    }
   ],
   "source": [
    "throws = throw_a_coin(40)\n",
    "print(\"Throws:\", throws)\n",
    "print(\"Number of Heads:\", np.sum(throws == 'H'))\n",
    "print(\"p2 = Number of Heads/Total Throws:\", np.sum(throws ==  'H')/40.)"
   ]
  },
  {
   "cell_type": "markdown",
   "metadata": {},
   "source": [
    "### Q1. Show what happens as we choose a larger and larger set of trials\n",
    "\n",
    "Do one replication for each size in the trials array below. Store the resultant probabilities in an array `probabilities`. Write a few lines on what you observe."
   ]
  },
  {
   "cell_type": "code",
   "execution_count": 47,
   "metadata": {
    "collapsed": true
   },
   "outputs": [],
   "source": [
    "trials = [10, 30, 50, 70, 100, 130, 170, 200, 500, 1000, 2000, 5000, 10000]"
   ]
  },
  {
   "cell_type": "code",
   "execution_count": 48,
   "metadata": {
    "scrolled": true
   },
   "outputs": [
    {
     "name": "stdout",
     "output_type": "stream",
     "text": [
      "Throws: ['H' 'T' 'T' 'H' 'H' 'T' 'H' 'T' 'T' 'H']\n",
      "Number of Heads: 5\n",
      "Number of Throws 10\n",
      "p2 = Number of Heads/Total Throws: 0.5\n",
      "\n",
      "\n",
      "Throws: ['H' 'H' 'T' 'T' 'H' 'T' 'T' 'H' 'T' 'H' 'H' 'T' 'T' 'T' 'H' 'H' 'T' 'T'\n",
      " 'H' 'H' 'T' 'T' 'T' 'H' 'H' 'T' 'T' 'H' 'H' 'T']\n",
      "Number of Heads: 14\n",
      "Number of Throws 30\n",
      "p2 = Number of Heads/Total Throws: 0.466666666667\n",
      "\n",
      "\n",
      "Throws: ['T' 'T' 'H' 'H' 'T' 'T' 'T' 'H' 'H' 'H' 'T' 'H' 'T' 'T' 'T' 'H' 'H' 'T'\n",
      " 'H' 'H' 'H' 'H' 'H' 'H' 'T' 'H' 'H' 'T' 'H' 'H' 'H' 'H' 'T' 'H' 'H' 'H'\n",
      " 'H' 'H' 'T' 'T' 'T' 'H' 'H' 'H' 'H' 'T' 'T' 'T' 'T' 'T']\n",
      "Number of Heads: 29\n",
      "Number of Throws 50\n",
      "p2 = Number of Heads/Total Throws: 0.58\n",
      "\n",
      "\n",
      "Throws: ['H' 'H' 'T' 'T' 'H' 'T' 'H' 'H' 'H' 'H' 'H' 'T' 'H' 'T' 'T' 'H' 'H' 'H'\n",
      " 'H' 'H' 'T' 'T' 'T' 'T' 'H' 'H' 'T' 'H' 'T' 'T' 'H' 'T' 'T' 'T' 'T' 'H'\n",
      " 'T' 'H' 'T' 'T' 'T' 'T' 'H' 'T' 'H' 'T' 'T' 'T' 'H' 'H' 'H' 'H' 'H' 'T'\n",
      " 'H' 'T' 'H' 'T' 'H' 'H' 'T' 'H' 'T' 'H' 'T' 'T' 'T' 'H' 'H' 'T']\n",
      "Number of Heads: 35\n",
      "Number of Throws 70\n",
      "p2 = Number of Heads/Total Throws: 0.5\n",
      "\n",
      "\n",
      "Throws: ['T' 'H' 'T' 'H' 'H' 'H' 'H' 'H' 'H' 'H' 'T' 'T' 'T' 'T' 'T' 'H' 'T' 'T'\n",
      " 'H' 'H' 'T' 'T' 'T' 'H' 'H' 'H' 'H' 'T' 'H' 'H' 'T' 'T' 'H' 'T' 'T' 'T'\n",
      " 'T' 'T' 'H' 'T' 'T' 'T' 'H' 'H' 'T' 'H' 'T' 'T' 'T' 'T' 'H' 'H' 'T' 'H'\n",
      " 'H' 'H' 'T' 'T' 'T' 'T' 'H' 'H' 'T' 'T' 'H' 'H' 'T' 'H' 'T' 'T' 'H' 'H'\n",
      " 'T' 'T' 'H' 'T' 'H' 'H' 'T' 'T' 'H' 'H' 'T' 'T' 'H' 'H' 'T' 'T' 'T' 'H'\n",
      " 'T' 'T' 'H' 'H' 'T' 'H' 'H' 'T' 'H' 'T']\n",
      "Number of Heads: 47\n",
      "Number of Throws 100\n",
      "p2 = Number of Heads/Total Throws: 0.47\n",
      "\n",
      "\n",
      "Throws: ['H' 'T' 'T' 'H' 'T' 'T' 'H' 'T' 'H' 'H' 'T' 'H' 'T' 'H' 'H' 'H' 'H' 'T'\n",
      " 'H' 'H' 'T' 'H' 'H' 'T' 'H' 'H' 'T' 'T' 'T' 'T' 'T' 'H' 'T' 'T' 'H' 'H'\n",
      " 'T' 'H' 'T' 'H' 'H' 'T' 'T' 'T' 'H' 'T' 'H' 'T' 'T' 'H' 'H' 'H' 'T' 'T'\n",
      " 'T' 'H' 'H' 'H' 'T' 'H' 'T' 'H' 'T' 'H' 'T' 'H' 'H' 'T' 'T' 'H' 'T' 'T'\n",
      " 'H' 'T' 'H' 'H' 'H' 'T' 'H' 'T' 'H' 'H' 'H' 'H' 'T' 'H' 'H' 'H' 'T' 'H'\n",
      " 'H' 'H' 'T' 'H' 'T' 'H' 'H' 'H' 'T' 'T' 'H' 'T' 'T' 'H' 'T' 'T' 'T' 'H'\n",
      " 'H' 'T' 'T' 'T' 'T' 'T' 'T' 'H' 'T' 'T' 'T' 'H' 'T' 'H' 'T' 'T' 'T' 'H'\n",
      " 'H' 'T' 'T' 'H']\n",
      "Number of Heads: 65\n",
      "Number of Throws 130\n",
      "p2 = Number of Heads/Total Throws: 0.5\n",
      "\n",
      "\n",
      "Throws: ['T' 'H' 'T' 'T' 'H' 'H' 'H' 'H' 'H' 'T' 'T' 'H' 'H' 'H' 'H' 'H' 'H' 'H'\n",
      " 'T' 'H' 'T' 'H' 'H' 'H' 'H' 'H' 'T' 'H' 'T' 'T' 'H' 'T' 'H' 'H' 'T' 'T'\n",
      " 'H' 'T' 'H' 'H' 'H' 'T' 'T' 'T' 'H' 'H' 'H' 'H' 'T' 'T' 'H' 'T' 'T' 'T'\n",
      " 'T' 'T' 'T' 'T' 'T' 'H' 'H' 'H' 'H' 'H' 'H' 'H' 'T' 'T' 'T' 'T' 'T' 'H'\n",
      " 'H' 'T' 'T' 'H' 'H' 'H' 'H' 'H' 'H' 'H' 'H' 'T' 'H' 'T' 'T' 'T' 'T' 'H'\n",
      " 'T' 'T' 'H' 'H' 'H' 'T' 'H' 'H' 'H' 'T' 'T' 'T' 'T' 'T' 'H' 'H' 'T' 'H'\n",
      " 'T' 'H' 'T' 'H' 'T' 'H' 'H' 'T' 'T' 'H' 'T' 'T' 'T' 'T' 'T' 'T' 'H' 'H'\n",
      " 'T' 'H' 'T' 'T' 'H' 'T' 'T' 'T' 'T' 'T' 'T' 'H' 'T' 'H' 'T' 'H' 'H' 'H'\n",
      " 'T' 'T' 'H' 'T' 'T' 'H' 'H' 'T' 'T' 'H' 'H' 'T' 'H' 'H' 'T' 'H' 'T' 'H'\n",
      " 'H' 'T' 'H' 'T' 'T' 'T' 'H' 'H']\n",
      "Number of Heads: 87\n",
      "Number of Throws 170\n",
      "p2 = Number of Heads/Total Throws: 0.511764705882\n",
      "\n",
      "\n",
      "Throws: ['T' 'H' 'H' 'H' 'H' 'T' 'T' 'H' 'H' 'H' 'H' 'H' 'T' 'H' 'T' 'T' 'H' 'T'\n",
      " 'T' 'T' 'H' 'H' 'H' 'T' 'H' 'H' 'T' 'H' 'T' 'H' 'H' 'H' 'H' 'H' 'H' 'H'\n",
      " 'T' 'H' 'H' 'T' 'T' 'H' 'T' 'T' 'T' 'T' 'T' 'H' 'T' 'H' 'T' 'H' 'H' 'T'\n",
      " 'H' 'T' 'T' 'H' 'T' 'T' 'H' 'H' 'H' 'T' 'T' 'T' 'T' 'T' 'H' 'T' 'H' 'H'\n",
      " 'H' 'H' 'H' 'T' 'T' 'H' 'T' 'H' 'T' 'H' 'H' 'H' 'H' 'T' 'T' 'T' 'T' 'H'\n",
      " 'T' 'T' 'H' 'T' 'H' 'T' 'H' 'T' 'H' 'H' 'T' 'T' 'T' 'T' 'T' 'T' 'T' 'H'\n",
      " 'T' 'H' 'T' 'H' 'H' 'T' 'H' 'T' 'H' 'H' 'H' 'T' 'T' 'H' 'T' 'T' 'H' 'H'\n",
      " 'H' 'H' 'H' 'T' 'T' 'T' 'H' 'H' 'H' 'H' 'T' 'T' 'T' 'H' 'T' 'H' 'T' 'T'\n",
      " 'H' 'H' 'H' 'T' 'T' 'T' 'T' 'T' 'T' 'H' 'T' 'H' 'T' 'T' 'T' 'T' 'T' 'H'\n",
      " 'H' 'H' 'H' 'H' 'T' 'T' 'H' 'H' 'T' 'H' 'T' 'T' 'H' 'T' 'H' 'H' 'T' 'H'\n",
      " 'H' 'T' 'T' 'T' 'T' 'H' 'H' 'T' 'T' 'T' 'T' 'T' 'H' 'T' 'T' 'H' 'T' 'H'\n",
      " 'H' 'T']\n",
      "Number of Heads: 98\n",
      "Number of Throws 200\n",
      "p2 = Number of Heads/Total Throws: 0.49\n",
      "\n",
      "\n",
      "Throws: ['T' 'T' 'T' 'H' 'T' 'H' 'H' 'T' 'T' 'T' 'H' 'T' 'T' 'H' 'T' 'H' 'T' 'T'\n",
      " 'T' 'T' 'H' 'T' 'H' 'H' 'H' 'T' 'T' 'T' 'H' 'H' 'T' 'T' 'H' 'T' 'T' 'T'\n",
      " 'T' 'T' 'T' 'T' 'T' 'T' 'H' 'H' 'T' 'T' 'T' 'H' 'T' 'T' 'H' 'T' 'H' 'T'\n",
      " 'T' 'T' 'H' 'T' 'T' 'H' 'T' 'H' 'H' 'H' 'T' 'H' 'H' 'H' 'H' 'H' 'H' 'H'\n",
      " 'T' 'H' 'H' 'T' 'T' 'T' 'T' 'H' 'T' 'H' 'T' 'T' 'H' 'T' 'T' 'H' 'H' 'T'\n",
      " 'T' 'T' 'H' 'H' 'H' 'T' 'H' 'T' 'T' 'H' 'T' 'T' 'T' 'T' 'H' 'H' 'T' 'H'\n",
      " 'T' 'T' 'T' 'T' 'H' 'T' 'T' 'T' 'T' 'T' 'H' 'T' 'H' 'H' 'T' 'T' 'H' 'T'\n",
      " 'H' 'H' 'H' 'T' 'H' 'T' 'T' 'H' 'T' 'H' 'T' 'H' 'H' 'H' 'H' 'H' 'H' 'H'\n",
      " 'H' 'H' 'T' 'H' 'H' 'H' 'H' 'H' 'H' 'H' 'T' 'H' 'H' 'H' 'H' 'T' 'T' 'T'\n",
      " 'T' 'H' 'T' 'H' 'T' 'T' 'T' 'H' 'H' 'H' 'T' 'H' 'H' 'H' 'T' 'H' 'T' 'H'\n",
      " 'T' 'T' 'T' 'H' 'H' 'T' 'T' 'H' 'H' 'H' 'T' 'H' 'H' 'H' 'H' 'T' 'H' 'H'\n",
      " 'T' 'H' 'H' 'T' 'T' 'H' 'H' 'H' 'T' 'T' 'H' 'T' 'H' 'H' 'H' 'H' 'T' 'H'\n",
      " 'H' 'T' 'T' 'T' 'H' 'H' 'T' 'T' 'T' 'T' 'H' 'H' 'H' 'T' 'T' 'T' 'H' 'T'\n",
      " 'T' 'T' 'H' 'T' 'H' 'H' 'H' 'H' 'H' 'T' 'H' 'H' 'T' 'H' 'T' 'T' 'T' 'H'\n",
      " 'T' 'T' 'H' 'H' 'T' 'T' 'H' 'T' 'H' 'T' 'H' 'T' 'T' 'T' 'H' 'T' 'T' 'H'\n",
      " 'H' 'T' 'T' 'T' 'T' 'T' 'T' 'H' 'T' 'H' 'H' 'H' 'H' 'T' 'H' 'T' 'H' 'H'\n",
      " 'T' 'H' 'H' 'T' 'T' 'T' 'T' 'H' 'T' 'H' 'H' 'T' 'T' 'H' 'T' 'H' 'H' 'T'\n",
      " 'H' 'T' 'H' 'T' 'H' 'T' 'T' 'H' 'H' 'H' 'H' 'H' 'T' 'T' 'T' 'T' 'T' 'H'\n",
      " 'T' 'H' 'T' 'H' 'T' 'T' 'H' 'H' 'T' 'T' 'H' 'T' 'H' 'T' 'T' 'H' 'H' 'H'\n",
      " 'T' 'H' 'H' 'T' 'T' 'H' 'H' 'T' 'H' 'H' 'T' 'T' 'H' 'T' 'T' 'H' 'T' 'T'\n",
      " 'H' 'H' 'T' 'H' 'H' 'H' 'T' 'H' 'T' 'T' 'T' 'H' 'T' 'H' 'H' 'H' 'H' 'H'\n",
      " 'T' 'T' 'T' 'T' 'H' 'H' 'H' 'T' 'T' 'H' 'T' 'H' 'H' 'T' 'H' 'T' 'H' 'H'\n",
      " 'H' 'H' 'T' 'T' 'T' 'H' 'T' 'H' 'T' 'H' 'H' 'H' 'T' 'T' 'H' 'T' 'H' 'T'\n",
      " 'T' 'T' 'H' 'T' 'H' 'T' 'T' 'H' 'H' 'H' 'T' 'T' 'T' 'T' 'H' 'T' 'H' 'T'\n",
      " 'H' 'H' 'T' 'T' 'H' 'T' 'T' 'H' 'H' 'H' 'H' 'T' 'H' 'T' 'T' 'T' 'T' 'H'\n",
      " 'H' 'T' 'H' 'H' 'H' 'H' 'T' 'H' 'H' 'T' 'T' 'T' 'T' 'T' 'H' 'T' 'H' 'T'\n",
      " 'H' 'T' 'T' 'H' 'T' 'T' 'T' 'H' 'T' 'T' 'T' 'H' 'T' 'T' 'H' 'T' 'H' 'T'\n",
      " 'T' 'H' 'H' 'H' 'H' 'H' 'T' 'H' 'T' 'H' 'T' 'H' 'T' 'T']\n",
      "Number of Heads: 244\n",
      "Number of Throws 500\n",
      "p2 = Number of Heads/Total Throws: 0.488\n",
      "\n",
      "\n",
      "Throws: ['H' 'T' 'T' 'H' 'T' 'H' 'T' 'H' 'H' 'T' 'T' 'H' 'T' 'H' 'T' 'H' 'H' 'T'\n",
      " 'T' 'T' 'H' 'H' 'H' 'H' 'H' 'T' 'T' 'H' 'T' 'H' 'T' 'T' 'H' 'H' 'H' 'H'\n",
      " 'H' 'H' 'H' 'H' 'T' 'H' 'T' 'T' 'H' 'T' 'H' 'H' 'H' 'H' 'H' 'H' 'H' 'T'\n",
      " 'T' 'T' 'T' 'H' 'H' 'T' 'T' 'H' 'H' 'H' 'T' 'T' 'T' 'H' 'H' 'T' 'T' 'T'\n",
      " 'H' 'T' 'H' 'H' 'T' 'H' 'T' 'H' 'T' 'T' 'T' 'T' 'H' 'H' 'T' 'T' 'T' 'T'\n",
      " 'H' 'H' 'T' 'H' 'T' 'T' 'H' 'H' 'T' 'T' 'T' 'H' 'T' 'H' 'H' 'H' 'H' 'H'\n",
      " 'H' 'H' 'T' 'T' 'H' 'H' 'T' 'H' 'T' 'H' 'T' 'H' 'T' 'H' 'H' 'H' 'H' 'H'\n",
      " 'H' 'H' 'H' 'H' 'T' 'T' 'H' 'H' 'H' 'H' 'T' 'H' 'T' 'H' 'T' 'T' 'T' 'T'\n",
      " 'H' 'T' 'H' 'H' 'T' 'H' 'T' 'T' 'T' 'T' 'H' 'H' 'T' 'T' 'H' 'H' 'H' 'H'\n",
      " 'T' 'T' 'T' 'H' 'H' 'H' 'H' 'T' 'H' 'H' 'T' 'H' 'H' 'H' 'T' 'T' 'T' 'T'\n",
      " 'H' 'H' 'H' 'T' 'H' 'H' 'T' 'T' 'T' 'H' 'T' 'H' 'H' 'H' 'T' 'H' 'H' 'T'\n",
      " 'H' 'T' 'H' 'H' 'H' 'H' 'T' 'T' 'T' 'H' 'T' 'T' 'T' 'T' 'H' 'H' 'T' 'H'\n",
      " 'T' 'H' 'T' 'H' 'T' 'T' 'T' 'T' 'H' 'T' 'H' 'T' 'H' 'T' 'T' 'T' 'T' 'T'\n",
      " 'T' 'H' 'H' 'H' 'T' 'T' 'T' 'H' 'T' 'H' 'T' 'T' 'T' 'H' 'T' 'H' 'T' 'T'\n",
      " 'T' 'T' 'T' 'H' 'H' 'H' 'T' 'T' 'H' 'H' 'T' 'T' 'T' 'H' 'T' 'T' 'H' 'T'\n",
      " 'H' 'H' 'H' 'H' 'H' 'T' 'T' 'H' 'T' 'T' 'T' 'H' 'H' 'H' 'T' 'T' 'H' 'H'\n",
      " 'H' 'T' 'H' 'T' 'H' 'H' 'T' 'H' 'T' 'H' 'H' 'T' 'T' 'H' 'T' 'H' 'H' 'H'\n",
      " 'H' 'T' 'T' 'H' 'H' 'T' 'H' 'H' 'T' 'T' 'T' 'H' 'H' 'H' 'T' 'T' 'H' 'H'\n",
      " 'H' 'H' 'T' 'H' 'T' 'H' 'H' 'T' 'H' 'H' 'H' 'T' 'H' 'H' 'T' 'H' 'T' 'H'\n",
      " 'T' 'H' 'H' 'T' 'H' 'T' 'H' 'T' 'T' 'H' 'T' 'T' 'T' 'H' 'H' 'T' 'H' 'T'\n",
      " 'H' 'H' 'H' 'H' 'T' 'T' 'T' 'T' 'H' 'T' 'T' 'T' 'T' 'H' 'H' 'H' 'H' 'H'\n",
      " 'H' 'H' 'T' 'T' 'T' 'H' 'T' 'T' 'H' 'H' 'H' 'T' 'H' 'T' 'H' 'T' 'T' 'T'\n",
      " 'T' 'H' 'T' 'H' 'H' 'T' 'T' 'H' 'H' 'H' 'H' 'H' 'H' 'T' 'H' 'H' 'T' 'T'\n",
      " 'T' 'H' 'H' 'T' 'H' 'H' 'T' 'H' 'T' 'T' 'T' 'H' 'T' 'H' 'T' 'H' 'H' 'H'\n",
      " 'T' 'H' 'H' 'H' 'H' 'H' 'H' 'H' 'H' 'T' 'H' 'T' 'H' 'T' 'T' 'H' 'H' 'T'\n",
      " 'H' 'H' 'H' 'T' 'H' 'H' 'T' 'T' 'H' 'H' 'T' 'T' 'T' 'T' 'H' 'H' 'T' 'H'\n",
      " 'H' 'H' 'H' 'T' 'H' 'H' 'H' 'T' 'H' 'T' 'T' 'H' 'T' 'T' 'H' 'H' 'T' 'T'\n",
      " 'H' 'T' 'H' 'H' 'T' 'T' 'T' 'T' 'T' 'H' 'T' 'H' 'H' 'H' 'H' 'T' 'T' 'H'\n",
      " 'T' 'T' 'H' 'T' 'T' 'T' 'T' 'T' 'T' 'T' 'H' 'H' 'H' 'H' 'H' 'H' 'T' 'T'\n",
      " 'T' 'H' 'H' 'T' 'H' 'T' 'H' 'T' 'T' 'H' 'H' 'T' 'H' 'T' 'T' 'T' 'H' 'H'\n",
      " 'H' 'H' 'T' 'T' 'T' 'H' 'T' 'T' 'H' 'T' 'T' 'H' 'H' 'T' 'T' 'H' 'H' 'H'\n",
      " 'T' 'T' 'T' 'H' 'H' 'H' 'H' 'H' 'T' 'H' 'H' 'T' 'T' 'H' 'T' 'H' 'H' 'T'\n",
      " 'H' 'H' 'H' 'T' 'H' 'H' 'T' 'H' 'H' 'H' 'H' 'T' 'T' 'H' 'T' 'T' 'H' 'T'\n",
      " 'T' 'H' 'T' 'H' 'H' 'H' 'T' 'H' 'H' 'H' 'H' 'T' 'T' 'T' 'H' 'H' 'H' 'T'\n",
      " 'T' 'H' 'H' 'H' 'T' 'H' 'T' 'T' 'H' 'T' 'H' 'T' 'T' 'T' 'T' 'T' 'T' 'H'\n",
      " 'T' 'H' 'T' 'T' 'H' 'T' 'T' 'H' 'H' 'T' 'T' 'H' 'T' 'H' 'H' 'T' 'T' 'T'\n",
      " 'H' 'H' 'H' 'H' 'H' 'T' 'H' 'T' 'T' 'H' 'T' 'T' 'H' 'T' 'H' 'H' 'H' 'T'\n",
      " 'H' 'T' 'H' 'T' 'H' 'H' 'H' 'H' 'H' 'H' 'H' 'T' 'H' 'T' 'T' 'T' 'H' 'T'\n",
      " 'H' 'T' 'H' 'T' 'T' 'H' 'T' 'H' 'H' 'H' 'H' 'T' 'H' 'T' 'H' 'H' 'T' 'H'\n",
      " 'H' 'H' 'T' 'T' 'T' 'H' 'T' 'T' 'H' 'T' 'T' 'T' 'T' 'H' 'T' 'H' 'H' 'T'\n",
      " 'H' 'H' 'T' 'H' 'H' 'T' 'T' 'H' 'T' 'H' 'H' 'H' 'H' 'H' 'T' 'T' 'T' 'T'\n",
      " 'T' 'H' 'H' 'T' 'T' 'H' 'T' 'H' 'T' 'H' 'H' 'H' 'H' 'T' 'T' 'H' 'H' 'T'\n",
      " 'T' 'H' 'T' 'T' 'T' 'T' 'T' 'T' 'T' 'H' 'H' 'H' 'H' 'H' 'H' 'H' 'H' 'H'\n",
      " 'T' 'T' 'H' 'T' 'T' 'T' 'T' 'T' 'H' 'H' 'H' 'H' 'T' 'T' 'H' 'T' 'H' 'T'\n",
      " 'H' 'H' 'H' 'H' 'T' 'H' 'T' 'T' 'H' 'T' 'T' 'T' 'T' 'T' 'H' 'H' 'H' 'H'\n",
      " 'T' 'T' 'T' 'H' 'H' 'T' 'T' 'T' 'T' 'H' 'H' 'T' 'H' 'T' 'T' 'H' 'T' 'T'\n",
      " 'H' 'T' 'T' 'H' 'H' 'H' 'H' 'H' 'H' 'T' 'T' 'H' 'H' 'H' 'T' 'T' 'T' 'T'\n",
      " 'H' 'H' 'T' 'H' 'T' 'H' 'H' 'T' 'T' 'H' 'T' 'T' 'H' 'T' 'T' 'H' 'T' 'H'\n",
      " 'H' 'H' 'H' 'H' 'T' 'H' 'H' 'T' 'T' 'H' 'H' 'T' 'T' 'H' 'H' 'T' 'T' 'H'\n",
      " 'T' 'T' 'T' 'H' 'H' 'H' 'H' 'T' 'T' 'T' 'T' 'T' 'T' 'H' 'T' 'T' 'H' 'T'\n",
      " 'T' 'H' 'H' 'T' 'T' 'T' 'H' 'H' 'T' 'T' 'T' 'H' 'H' 'T' 'T' 'T' 'H' 'H'\n",
      " 'T' 'H' 'H' 'T' 'H' 'T' 'T' 'T' 'T' 'H' 'H' 'T' 'T' 'H' 'T' 'T' 'H' 'H'\n",
      " 'H' 'H' 'T' 'H' 'T' 'H' 'T' 'H' 'H' 'H' 'H' 'T' 'H' 'H' 'T' 'T' 'H' 'T'\n",
      " 'T' 'H' 'T' 'T' 'H' 'H' 'T' 'T' 'H' 'H' 'T' 'H' 'T' 'H' 'T' 'T' 'T' 'T'\n",
      " 'H' 'T' 'H' 'H' 'H' 'T' 'H' 'H' 'H' 'H' 'T' 'T' 'T' 'H' 'H' 'T' 'H' 'H'\n",
      " 'H' 'T' 'T' 'T' 'T' 'H' 'T' 'H' 'T' 'T']\n",
      "Number of Heads: 519\n",
      "Number of Throws 1000\n",
      "p2 = Number of Heads/Total Throws: 0.519\n",
      "\n",
      "\n",
      "Throws: ['T' 'H' 'H' ..., 'T' 'H' 'T']\n",
      "Number of Heads: 981\n",
      "Number of Throws 2000\n",
      "p2 = Number of Heads/Total Throws: 0.4905\n",
      "\n",
      "\n",
      "Throws: ['H' 'T' 'H' ..., 'H' 'H' 'T']\n",
      "Number of Heads: 2537\n",
      "Number of Throws 5000\n",
      "p2 = Number of Heads/Total Throws: 0.5074\n",
      "\n",
      "\n",
      "Throws: ['T' 'T' 'H' ..., 'H' 'T' 'H']\n",
      "Number of Heads: 4951\n",
      "Number of Throws 10000\n",
      "p2 = Number of Heads/Total Throws: 0.4951\n",
      "\n",
      "\n",
      "[0.5, 0.46666666666666667, 0.57999999999999996, 0.5, 0.46999999999999997, 0.5, 0.5117647058823529, 0.48999999999999999, 0.48799999999999999, 0.51900000000000002, 0.49049999999999999, 0.50739999999999996, 0.49509999999999998]\n"
     ]
    }
   ],
   "source": [
    "probabilities = []\n",
    "\n",
    "def rerun_trials(args):\n",
    "    for arg in args:\n",
    "        #probabilities.append(throw_a_coin(arg))\n",
    "        throws = throw_a_coin(arg)\n",
    "        print(\"Throws:\", throws)\n",
    "        print(\"Number of Heads:\", np.sum(throws == 'H'))\n",
    "        print(\"Number of Throws\", arg)\n",
    "        p = np.sum(throws ==  'H')/arg\n",
    "        print(\"p2 = Number of Heads/Total Throws:\", p)\n",
    "        print(\"\\n\")\n",
    "        probabilities.append(p)\n",
    "        \n",
    "rerun_trials(trials)\n",
    "print(probabilities)\n",
    "    \n",
    "\n"
   ]
  },
  {
   "cell_type": "code",
   "execution_count": 49,
   "metadata": {},
   "outputs": [
    {
     "data": {
      "image/png": "[encoded data removed]",
      "text/plain": [
       "<matplotlib.figure.Figure at 0x7f2247b52a90>"
      ]
     },
     "metadata": {},
     "output_type": "display_data"
    }
   ],
   "source": [
    "plt.plot(trials, probabilities, 'o-', alpha=0.6);\n",
    "plt.axhline(0.5, 0, 1, color='r');\n",
    "plt.xlabel('number of trials');\n",
    "plt.ylabel('probability of heads from simulation');\n",
    "plt.title('Probability of heads, one replication per trial size');"
   ]
  },
  {
   "cell_type": "markdown",
   "metadata": {},
   "source": [
    "What did you observe?\n",
    "\n",
    "As the number of trials increase, the probability approaches .5 \n"
   ]
  },
  {
   "cell_type": "markdown",
   "metadata": {},
   "source": [
    "## Multiple replications of the coin flips\n",
    "\n",
    "Lets redo the experiment with coin flips that we started above. We'll establish some terminology at first. As notation we shall call the size of the trial of coin flips $n$. We'll call the result of each coin flip an observation, and a single replication (which is what we did above) a sample of observations. We will do $M$ replications (or $M$ \"samples\"), for which the variable in the function below is `number_of_samples` now, for each sample size $n$ (`sample_size`)."
   ]
  },
  {
   "cell_type": "markdown",
   "metadata": {},
   "source": [
    "### Q2. Write a function to make M replications of N throws\n",
    "\n",
    "Your job is to write a function `make_throws` which takes as arguments the `number_of_samples` (M) and the `sample_size` (n), and returns a list of probablities of size M, with each probability coming from a different replication of size n. In each replication we do n coin tosses. We have provided a \"spec\" of the function below. "
   ]
  },
  {
   "cell_type": "code",
   "execution_count": 50,
   "metadata": {
    "collapsed": true
   },
   "outputs": [],
   "source": [
    "\"\"\"\n",
    "Function\n",
    "--------\n",
    "make_throws\n",
    "\n",
    "Generate a array of probabilities, each representing\n",
    "the probability of finding heads in a sample of fair coins\n",
    "\n",
    "Parameters\n",
    "----------\n",
    "number_of_samples : int\n",
    "    The number of samples or replications\n",
    "sample_size: int\n",
    "    The size of each sample (we assume each sample has the same size)\n",
    "\n",
    "Returns\n",
    "-------\n",
    "sample_probs : array\n",
    "    Array of probabilities of H, one from each sample or replication\n",
    "\n",
    "Example\n",
    "-------\n",
    ">>> make_throws(number_of_samples = 3, sample_size = 20)\n",
    "[0.40000000000000002, 0.5, 0.59999999999999998]\n",
    "\"\"\"\n",
    "\n",
    "def make_throws(number_of_samples, sample_size):\n",
    "    sample_probs = []\n",
    "    while number_of_samples > 0:\n",
    "        throws = throw_a_coin(sample_size)\n",
    "        p = np.sum(throws ==  'H')/sample_size\n",
    "        sample_probs.append(p)\n",
    "        number_of_samples -= 1\n",
    "    return(sample_probs)\n"
   ]
  },
  {
   "cell_type": "markdown",
   "metadata": {},
   "source": [
    "We show the mean over the observations, or sample mean, for a sample size of 10, with 20 replications. There are thus 20 means."
   ]
  },
  {
   "cell_type": "code",
   "execution_count": 51,
   "metadata": {},
   "outputs": [
    {
     "data": {
      "text/plain": [
       "[0.80000000000000004,\n",
       " 0.69999999999999996,\n",
       " 0.69999999999999996,\n",
       " 0.40000000000000002,\n",
       " 0.10000000000000001,\n",
       " 0.59999999999999998,\n",
       " 0.40000000000000002,\n",
       " 0.29999999999999999,\n",
       " 0.59999999999999998,\n",
       " 0.40000000000000002,\n",
       " 0.40000000000000002,\n",
       " 0.5,\n",
       " 0.69999999999999996,\n",
       " 0.40000000000000002,\n",
       " 0.69999999999999996,\n",
       " 0.40000000000000002,\n",
       " 0.5,\n",
       " 0.5,\n",
       " 0.40000000000000002,\n",
       " 0.69999999999999996]"
      ]
     },
     "execution_count": 51,
     "metadata": {},
     "output_type": "execute_result"
    }
   ],
   "source": [
    "make_throws(number_of_samples=20, sample_size=10)"
   ]
  },
  {
   "cell_type": "markdown",
   "metadata": {},
   "source": [
    "### Q3. What happens to the mean and standard deviation of the sample means as you increase the sample size\n",
    "\n",
    "Using the sample sizes from the `sample_sizes` array below, compute a set of sample_means for each sample size, and for 200 replications. Calculate the mean and standard deviation for each sample size. Store this in arrays `mean_of_sample_means` and `std_dev_of_sample_means`. The standard deviation of the sampling means is called the \"standard error\". Explain what you see about this \"mean of sampling means\"."
   ]
  },
  {
   "cell_type": "code",
   "execution_count": 52,
   "metadata": {
    "collapsed": true
   },
   "outputs": [],
   "source": [
    "sample_sizes = np.arange(1,1001,1)"
   ]
  },
  {
   "cell_type": "code",
   "execution_count": 87,
   "metadata": {
    "collapsed": true
   },
   "outputs": [],
   "source": [
    "mean_of_sample_means = np.array([])\n",
    "std_dev_of_sample_means = np.array([])"
   ]
  },
  {
   "cell_type": "code",
   "execution_count": 88,
   "metadata": {},
   "outputs": [],
   "source": [
    "# Iterate over sample sizes, calculating mean and standard deviation for each sample size\n",
    "\n",
    "for sample_size in sample_sizes:\n",
    "    mean_of_sample_means = np.append(mean_of_sample_means, np.mean(make_throws(200, sample_size)))\n",
    "    std_dev_of_sample_means = np.append(std_dev_of_sample_means, np.std(make_throws(200, sample_size)))\n",
    "    \n",
    "    "
   ]
  },
  {
   "cell_type": "code",
   "execution_count": 106,
   "metadata": {},
   "outputs": [
    {
     "data": {
      "text/plain": [
       "array([ 0.49977495,  0.35106089,  0.2763854 ,  0.24532822,  0.23378623,\n",
       "        0.20364559,  0.19008054,  0.18182989,  0.15886946,  0.13917525,\n",
       "        0.14882182,  0.14643685,  0.14525584,  0.13690782,  0.12604012,\n",
       "        0.12698271,  0.12168618,  0.12061794,  0.11847952,  0.10900659,\n",
       "        0.10657282,  0.10015252,  0.10103435,  0.09655525,  0.09496926,\n",
       "        0.10098333,  0.09369419,  0.09637499,  0.0929627 ,  0.08873666,\n",
       "        0.09957819,  0.09405874,  0.0834275 ,  0.08339623,  0.08738888,\n",
       "        0.0780605 ,  0.08478521,  0.08141229,  0.07545337,  0.0871389 ,\n",
       "        0.07028867,  0.07522302,  0.07582251,  0.07674149,  0.0719361 ,\n",
       "        0.0726331 ,  0.06516676,  0.07441722,  0.0710045 ,  0.06590781,\n",
       "        0.07028249,  0.07367361,  0.06824844,  0.0658291 ,  0.06544848,\n",
       "        0.06485358,  0.06571803,  0.06711283,  0.06211067,  0.05943975,\n",
       "        0.06007693,  0.0626546 ,  0.06262498,  0.06582925,  0.05849953,\n",
       "        0.0593429 ,  0.06266364,  0.05916427,  0.06281029,  0.05863407,\n",
       "        0.05917102,  0.06037674,  0.05979695,  0.05808469,  0.05946394,\n",
       "        0.05657528,  0.05851309,  0.05237615,  0.05549153,  0.05672711,\n",
       "        0.05318624,  0.05479503,  0.0540827 ,  0.0506168 ,  0.05152014,\n",
       "        0.05431851,  0.05629694,  0.05488386,  0.0511885 ,  0.04916726,\n",
       "        0.04851119,  0.05013495,  0.05486482,  0.05030509,  0.05037694,\n",
       "        0.05416977,  0.05171824,  0.04911967,  0.0471928 ,  0.04686619,\n",
       "        0.05043328,  0.05415058,  0.05092636,  0.05633754,  0.04863952,\n",
       "        0.04846486,  0.04955484,  0.05349376,  0.0503443 ,  0.0478206 ,\n",
       "        0.04824152,  0.04237555,  0.04589253,  0.04996921,  0.04438598,\n",
       "        0.04168741,  0.04544387,  0.04555028,  0.04780647,  0.04434837,\n",
       "        0.04470272,  0.04330042,  0.04285052,  0.04665558,  0.04324218,\n",
       "        0.0450216 ,  0.04085345,  0.04512617,  0.04842907,  0.04429854,\n",
       "        0.04587651,  0.04269312,  0.0407563 ,  0.04080657,  0.04216954,\n",
       "        0.03730542,  0.03942005,  0.04127096,  0.04333367,  0.0406038 ,\n",
       "        0.04091768,  0.0414727 ,  0.04221779,  0.03756166,  0.04439032,\n",
       "        0.0425741 ,  0.037805  ,  0.04019356,  0.03858208,  0.03911805,\n",
       "        0.04038649,  0.04048559,  0.04203624,  0.03963082,  0.03527086,\n",
       "        0.0391748 ,  0.03739009,  0.03793245,  0.03801781,  0.04177898,\n",
       "        0.03819628,  0.03972159,  0.04017819,  0.04031917,  0.03965966,\n",
       "        0.04169458,  0.03623244,  0.0379076 ,  0.03443633,  0.03889815,\n",
       "        0.03722125,  0.03869224,  0.03867976,  0.04034645,  0.03738505,\n",
       "        0.03439118,  0.03768815,  0.03631725,  0.03685456,  0.03724534,\n",
       "        0.03607037,  0.03404005,  0.03630035,  0.03498792,  0.03405782,\n",
       "        0.03418314,  0.03706461,  0.03655644,  0.03369569,  0.03544009,\n",
       "        0.03652394,  0.03519499,  0.03602947,  0.03592912,  0.03271618,\n",
       "        0.03362488,  0.03729217,  0.03595293,  0.03275253,  0.03546751,\n",
       "        0.03489301,  0.03608526,  0.03347493,  0.03553648,  0.03151748,\n",
       "        0.03632417,  0.03441295,  0.0343873 ,  0.03381742,  0.0312687 ,\n",
       "        0.03648169,  0.03275969,  0.03675163,  0.03027943,  0.03202114,\n",
       "        0.03647707,  0.03544548,  0.0346088 ,  0.03433143,  0.03687751,\n",
       "        0.03273685,  0.0320314 ,  0.03237295,  0.03444212,  0.0353494 ,\n",
       "        0.03608281,  0.03241405,  0.03319161,  0.03408491,  0.03572368,\n",
       "        0.03356109,  0.03089276,  0.03237166,  0.03240933,  0.03042918,\n",
       "        0.03110574,  0.03184997,  0.03408037,  0.0304917 ,  0.02972349,\n",
       "        0.02943748,  0.03110204,  0.03433588,  0.03028908,  0.03206339,\n",
       "        0.03340504,  0.03050773,  0.0341512 ,  0.03251945,  0.03308595,\n",
       "        0.03138683,  0.02742623,  0.03364168,  0.03102871,  0.0304067 ,\n",
       "        0.03263339,  0.0301532 ,  0.03050402,  0.03295353,  0.02924403,\n",
       "        0.02893909,  0.03421921,  0.03158283,  0.03062213,  0.0284283 ,\n",
       "        0.03041806,  0.02924563,  0.02976646,  0.03121127,  0.02899926,\n",
       "        0.03294192,  0.03183533,  0.02750596,  0.02575628,  0.02904769,\n",
       "        0.03183518,  0.02968809,  0.0302804 ,  0.02861158,  0.02960216,\n",
       "        0.0295843 ,  0.03077671,  0.03006309,  0.03055581,  0.02908672,\n",
       "        0.02829352,  0.03088726,  0.02745162,  0.02992878,  0.02894075,\n",
       "        0.02979125,  0.02976636,  0.02870394,  0.02986813,  0.03072127,\n",
       "        0.03116432,  0.02969611,  0.03093443,  0.02925739,  0.02878054,\n",
       "        0.03056946,  0.02799225,  0.02752006,  0.03012374,  0.02660033,\n",
       "        0.02737111,  0.0270162 ,  0.0285577 ,  0.02653086,  0.02789712,\n",
       "        0.02786004,  0.02641531,  0.02943884,  0.02855603,  0.02642443,\n",
       "        0.02765558,  0.02805156,  0.02604806,  0.02860246,  0.02964378,\n",
       "        0.02689026,  0.02704896,  0.02882245,  0.02765642,  0.02774762,\n",
       "        0.02807326,  0.02803718,  0.02892377,  0.02721456,  0.02571967,\n",
       "        0.02629885,  0.02613998,  0.02801816,  0.02778035,  0.0269897 ,\n",
       "        0.02870288,  0.02625164,  0.02686318,  0.02899698,  0.0261801 ,\n",
       "        0.02616743,  0.02937757,  0.02598118,  0.02495591,  0.02588975,\n",
       "        0.02549575,  0.0290967 ,  0.02578879,  0.02681409,  0.0246212 ,\n",
       "        0.02662633,  0.02539118,  0.02593097,  0.02770514,  0.02733351,\n",
       "        0.02658434,  0.02801876,  0.02655703,  0.02469819,  0.024896  ,\n",
       "        0.0276653 ,  0.02545402,  0.02567247,  0.02661349,  0.0266869 ,\n",
       "        0.02731133,  0.02732007,  0.02553149,  0.02563972,  0.02513005,\n",
       "        0.02440313,  0.02656784,  0.02479001,  0.02660308,  0.02612353,\n",
       "        0.02442604,  0.02608455,  0.02749147,  0.02394703,  0.02646803,\n",
       "        0.02691761,  0.0253775 ,  0.02483268,  0.02730901,  0.02418891,\n",
       "        0.02276646,  0.02403384,  0.02508467,  0.02608938,  0.02482077,\n",
       "        0.02585562,  0.02577539,  0.02701039,  0.02642018,  0.02731043,\n",
       "        0.02380143,  0.02474725,  0.02301592,  0.02284796,  0.02497158,\n",
       "        0.024194  ,  0.0251957 ,  0.02436757,  0.02371261,  0.02499497,\n",
       "        0.02509295,  0.02441553,  0.02090172,  0.02325297,  0.02408035,\n",
       "        0.02292092,  0.02559205,  0.02222939,  0.02333901,  0.02439097,\n",
       "        0.0235478 ,  0.02095229,  0.02430674,  0.02225561,  0.02422933,\n",
       "        0.02505032,  0.02383252,  0.025478  ,  0.02467853,  0.02437323,\n",
       "        0.02559432,  0.0256882 ,  0.02280486,  0.02408559,  0.02701425,\n",
       "        0.02407265,  0.02457736,  0.02252031,  0.02238635,  0.02453134,\n",
       "        0.02467589,  0.0244138 ,  0.02286217,  0.02287833,  0.02325447,\n",
       "        0.02442882,  0.02494354,  0.02449246,  0.02334023,  0.02384577,\n",
       "        0.02249673,  0.02621515,  0.02249641,  0.02387299,  0.02190371,\n",
       "        0.02440221,  0.0225514 ,  0.02403931,  0.02449168,  0.0249778 ,\n",
       "        0.02275855,  0.02333239,  0.02453511,  0.02497085,  0.02385635,\n",
       "        0.02282861,  0.0226219 ,  0.02338624,  0.0236306 ,  0.02101896,\n",
       "        0.02103232,  0.02549817,  0.02300866,  0.02280771,  0.0228448 ,\n",
       "        0.02487386,  0.02244841,  0.02235723,  0.02261865,  0.02310305,\n",
       "        0.02348112,  0.0221386 ,  0.02257161,  0.02540717,  0.02188813,\n",
       "        0.0242201 ,  0.02334319,  0.02223585,  0.02192015,  0.02310269,\n",
       "        0.02310298,  0.02163058,  0.02144151,  0.0219296 ,  0.02425541,\n",
       "        0.02285355,  0.01999423,  0.02233535,  0.02184321,  0.0232998 ,\n",
       "        0.02271524,  0.02168039,  0.02382729,  0.0244296 ,  0.0226476 ,\n",
       "        0.02227834,  0.02144873,  0.01979728,  0.02284952,  0.02043038,\n",
       "        0.02125732,  0.02093285,  0.02266499,  0.02368804,  0.02030532,\n",
       "        0.02240201,  0.02469907,  0.02195464,  0.02112732,  0.02084012,\n",
       "        0.02115867,  0.02111542,  0.02366827,  0.02237743,  0.02250534,\n",
       "        0.02230949,  0.02217242,  0.02319108,  0.02154183,  0.02271757,\n",
       "        0.02260103,  0.02191433,  0.02210905,  0.02151248,  0.0208674 ,\n",
       "        0.02255985,  0.0219637 ,  0.02201661,  0.02330411,  0.02040363,\n",
       "        0.02003377,  0.01988042,  0.02267737,  0.01926981,  0.01901649,\n",
       "        0.02004147,  0.02245176,  0.02196064,  0.02222295,  0.02036453,\n",
       "        0.02260996,  0.02290842,  0.0213811 ,  0.02116235,  0.02159372,\n",
       "        0.02076352,  0.02009808,  0.01980762,  0.02208598,  0.02280365,\n",
       "        0.02053099,  0.02177152,  0.02212294,  0.02000941,  0.02293874,\n",
       "        0.02021125,  0.02128467,  0.01947438,  0.01931859,  0.01976401,\n",
       "        0.02043703,  0.02044667,  0.02076289,  0.01989476,  0.02148296,\n",
       "        0.02148327,  0.02004558,  0.02028528,  0.0195132 ,  0.02178027,\n",
       "        0.01890233,  0.01997278,  0.02116303,  0.0202127 ,  0.02165682,\n",
       "        0.02114852,  0.01984064,  0.02326219,  0.02062906,  0.02131379,\n",
       "        0.02178343,  0.02066722,  0.02009705,  0.01980306,  0.01970677,\n",
       "        0.02035382,  0.02096977,  0.01839424,  0.02103204,  0.02169213,\n",
       "        0.01965713,  0.01994509,  0.01961656,  0.02043239,  0.02168133,\n",
       "        0.0192964 ,  0.02059525,  0.01937599,  0.01967999,  0.01972545,\n",
       "        0.01847234,  0.01965952,  0.01992601,  0.0186676 ,  0.02106477,\n",
       "        0.0208111 ,  0.02002697,  0.01983759,  0.02048176,  0.0185262 ,\n",
       "        0.0197804 ,  0.0205755 ,  0.02033848,  0.01964562,  0.01898635,\n",
       "        0.01867305,  0.02046653,  0.02246739,  0.02099386,  0.02105244,\n",
       "        0.01995584,  0.0192693 ,  0.02209474,  0.01984474,  0.02116426,\n",
       "        0.01962445,  0.02090611,  0.01824747,  0.01897731,  0.02063268,\n",
       "        0.01961029,  0.02075784,  0.01951085,  0.01886914,  0.01883603,\n",
       "        0.02012999,  0.0195292 ,  0.02147191,  0.01992971,  0.01995223,\n",
       "        0.01787338,  0.01856928,  0.01944613,  0.01879573,  0.02043617,\n",
       "        0.0208621 ,  0.01832387,  0.02030537,  0.0190822 ,  0.01849071,\n",
       "        0.01987795,  0.01935271,  0.01905447,  0.01943285,  0.02185344,\n",
       "        0.01944809,  0.01816913,  0.01940491,  0.01915572,  0.01956258,\n",
       "        0.02077959,  0.01777924,  0.0182426 ,  0.01926758,  0.01826146,\n",
       "        0.02042271,  0.02117856,  0.02002652,  0.01951015,  0.01880903,\n",
       "        0.019311  ,  0.01996038,  0.01967343,  0.01850889,  0.02020196,\n",
       "        0.01841188,  0.01979948,  0.01909829,  0.01949591,  0.01974368,\n",
       "        0.02021343,  0.01951085,  0.01873771,  0.01743917,  0.01885058,\n",
       "        0.0186052 ,  0.01910468,  0.01884205,  0.01907045,  0.01904285,\n",
       "        0.01865241,  0.01832444,  0.01954912,  0.01907411,  0.01840796,\n",
       "        0.01905625,  0.01792953,  0.01728599,  0.01762188,  0.01741019,\n",
       "        0.01876832,  0.01941002,  0.01932854,  0.01882415,  0.01764213,\n",
       "        0.01788551,  0.01913754,  0.01778951,  0.01856181,  0.01774747,\n",
       "        0.01608815,  0.01835389,  0.01891729,  0.01749593,  0.01883302,\n",
       "        0.01903395,  0.01830968,  0.01900829,  0.01843065,  0.0174042 ,\n",
       "        0.01947989,  0.01856663,  0.0191543 ,  0.01940633,  0.01937881,\n",
       "        0.01847504,  0.019262  ,  0.01820014,  0.01927821,  0.01828956,\n",
       "        0.01803424,  0.01845912,  0.01896353,  0.01760873,  0.01904155,\n",
       "        0.01925424,  0.01753973,  0.01697636,  0.01655077,  0.0177024 ,\n",
       "        0.01961633,  0.01856434,  0.01675308,  0.01734091,  0.01791984,\n",
       "        0.01820361,  0.01804058,  0.01819265,  0.01836795,  0.01897822,\n",
       "        0.01911661,  0.01772549,  0.01799682,  0.01815841,  0.01946076,\n",
       "        0.01659044,  0.01802664,  0.01769897,  0.01773795,  0.01801623,\n",
       "        0.0174081 ,  0.01676152,  0.01917646,  0.01865984,  0.01821689,\n",
       "        0.01933186,  0.01909236,  0.01927288,  0.01744207,  0.01595822,\n",
       "        0.01708663,  0.0189657 ,  0.01767554,  0.0173752 ,  0.01754818,\n",
       "        0.01993298,  0.01913639,  0.01845875,  0.01920961,  0.01877557,\n",
       "        0.01754867,  0.01820001,  0.01761772,  0.01759992,  0.01786006,\n",
       "        0.01665014,  0.01806025,  0.01952649,  0.01608578,  0.01792062,\n",
       "        0.01808868,  0.01931869,  0.01895812,  0.01636877,  0.01750669,\n",
       "        0.01678714,  0.01702171,  0.01826384,  0.01789828,  0.01702588,\n",
       "        0.01580169,  0.01709232,  0.01697024,  0.0178138 ,  0.01793798,\n",
       "        0.01605175,  0.01678583,  0.01681835,  0.01668917,  0.01710336,\n",
       "        0.01832095,  0.01837608,  0.01662122,  0.01727041,  0.0174383 ,\n",
       "        0.01762355,  0.01642119,  0.01777494,  0.01823735,  0.01808096,\n",
       "        0.01773126,  0.01838595,  0.01807236,  0.01691699,  0.01611673,\n",
       "        0.01734247,  0.01614195,  0.0180135 ,  0.01760539,  0.0182896 ,\n",
       "        0.01715429,  0.01745841,  0.01639496,  0.01601445,  0.01774566,\n",
       "        0.01600349,  0.01814301,  0.01794839,  0.01757692,  0.01781343,\n",
       "        0.01623573,  0.01454395,  0.01727647,  0.01699783,  0.01668132,\n",
       "        0.01520693,  0.01745979,  0.01673607,  0.01755804,  0.01683484,\n",
       "        0.017768  ,  0.01534919,  0.01745567,  0.01678347,  0.01775765,\n",
       "        0.01617152,  0.01680169,  0.01685515,  0.01792704,  0.01665951,\n",
       "        0.01765625,  0.01592126,  0.01647143,  0.01678884,  0.01531322,\n",
       "        0.01717577,  0.01701331,  0.01601985,  0.01691117,  0.01779182,\n",
       "        0.01699647,  0.01752259,  0.01872332,  0.01653326,  0.01754824,\n",
       "        0.0163819 ,  0.01741297,  0.01586977,  0.01818333,  0.01637498,\n",
       "        0.01832297,  0.01629851,  0.0165746 ,  0.01557606,  0.01792089,\n",
       "        0.01673671,  0.01824359,  0.01668845,  0.0163972 ,  0.01795925,\n",
       "        0.01766547,  0.01566927,  0.01636168,  0.01751378,  0.01747887,\n",
       "        0.01817801,  0.01791296,  0.01613422,  0.01762694,  0.01748183,\n",
       "        0.01666758,  0.01559884,  0.01659863,  0.01574448,  0.01708524,\n",
       "        0.01620037,  0.0175765 ,  0.01704153,  0.01671721,  0.01627124,\n",
       "        0.01693301,  0.01663157,  0.01615035,  0.01551915,  0.01670343,\n",
       "        0.01597117,  0.01544903,  0.01645959,  0.0173414 ,  0.0170998 ,\n",
       "        0.01623164,  0.01678212,  0.01734369,  0.01632856,  0.01774516,\n",
       "        0.01582977,  0.01686863,  0.01568731,  0.01568383,  0.01616799,\n",
       "        0.01619014,  0.01506937,  0.01767369,  0.01635819,  0.0154725 ,\n",
       "        0.0167329 ,  0.01622743,  0.01604996,  0.01802319,  0.01636399,\n",
       "        0.01436582,  0.01669478,  0.01567381,  0.01494879,  0.0161267 ,\n",
       "        0.01635146,  0.01612954,  0.0165306 ,  0.01777046,  0.01498032,\n",
       "        0.01546596,  0.01625476,  0.01700856,  0.01693414,  0.01661586,\n",
       "        0.01663612,  0.01670579,  0.01704128,  0.01623647,  0.01566801,\n",
       "        0.01602448,  0.0152216 ,  0.01614165,  0.01550157,  0.01528692,\n",
       "        0.01484751,  0.01646511,  0.0166801 ,  0.01632876,  0.01420178,\n",
       "        0.01465729,  0.01563404,  0.01675329,  0.01576509,  0.0156187 ,\n",
       "        0.01655963,  0.01457457,  0.01634125,  0.01433249,  0.0151519 ,\n",
       "        0.01591018,  0.01559171,  0.01619763,  0.01532279,  0.01574125,\n",
       "        0.0175445 ,  0.01554937,  0.01596812,  0.0163405 ,  0.0150417 ,\n",
       "        0.0143208 ,  0.01576116,  0.0176612 ,  0.01620942,  0.01485355])"
      ]
     },
     "execution_count": 106,
     "metadata": {},
     "output_type": "execute_result"
    }
   ],
   "source": []
  },
  {
   "cell_type": "code",
   "execution_count": 90,
   "metadata": {},
   "outputs": [
    {
     "data": {
      "text/plain": [
       "(10, 0.44, 0.4997749493522059)"
      ]
     },
     "execution_count": 90,
     "metadata": {},
     "output_type": "execute_result"
    }
   ],
   "source": [
    "# mean and std of 200 means from 200 replications, each of size 10\n",
    "trials[0], mean_of_sample_means[0], std_dev_of_sample_means[0] "
   ]
  },
  {
   "cell_type": "code",
   "execution_count": 120,
   "metadata": {},
   "outputs": [
    {
     "data": {
      "image/png": "[encoded data removed]",
      "text/plain": [
       "<matplotlib.figure.Figure at 0x7f22478b6240>"
      ]
     },
     "metadata": {},
     "output_type": "display_data"
    }
   ],
   "source": [
    "\n",
    "plt.plot(sample_sizes, mean_of_sample_means);\n",
    "plt.ylim([0.480,0.520]);\n",
    "plt.xlabel(\"sample sizes\")\n",
    "plt.ylabel(\"mean probability of heads\")\n",
    "plt.title(\"Mean of sample means over 200 replications\");"
   ]
  },
  {
   "cell_type": "markdown",
   "metadata": {},
   "source": [
    "Explain what you see about this \"mean of sampling means\".\n",
    "\n",
    "The mean of the sample means approaches .5 as the sample size increases, but there is still variance around .5\n"
   ]
  },
  {
   "cell_type": "markdown",
   "metadata": {},
   "source": [
    "### Q4. What distribution do the sampling means follow?\n",
    "\n",
    "Store in variables `sampling_means_at_size_100` and `sampling_means_at_size_1000` the set of sampling means at sample sizes of 100 and 1000 respectively, still with 200 replications. We will plot in a histogram below these distributions. What type of distributions are these, roughly? How do these distributions vary with sample size?"
   ]
  },
  {
   "cell_type": "code",
   "execution_count": 121,
   "metadata": {},
   "outputs": [],
   "source": [
    "sampling_means_at_size_100 = []\n",
    "sampling_means_at_size_1000 = []\n",
    "sampling_means_at_size_100 = make_throws(200, 100)\n",
    "sampling_means_at_size_1000 = make_throws(200, 1000)\n"
   ]
  },
  {
   "cell_type": "code",
   "execution_count": null,
   "metadata": {},
   "outputs": [],
   "source": [
    "\n"
   ]
  },
  {
   "cell_type": "code",
   "execution_count": 122,
   "metadata": {},
   "outputs": [
    {
     "data": {
      "image/png": "[encoded data removed]",
      "text/plain": [
       "<matplotlib.figure.Figure at 0x7f2247cb9d30>"
      ]
     },
     "metadata": {},
     "output_type": "display_data"
    }
   ],
   "source": [
    "plt.hist(sampling_means_at_size_100, alpha=0.3, label=\"100\", bins=10)\n",
    "plt.hist(sampling_means_at_size_1000, alpha=0.3, label=\"1000\", bins=10)\n",
    "plt.legend();\n",
    "plt.title(\"Sampling distributions at different sample sizes and for 200 replications\");"
   ]
  },
  {
   "cell_type": "markdown",
   "metadata": {},
   "source": [
    "What type of distributions are these, roughly? How do these distributions vary with sample size?\n",
    "\n",
    "As sample sizes increase, the distribution approaches a normal distribution\n"
   ]
  },
  {
   "cell_type": "markdown",
   "metadata": {},
   "source": [
    "### Q5. How does the standard error of the sample mean vary with sample size? Create a plot to illustrate how it varies over various sample sizes.\n",
    "\n",
    "Hint: you might want to take logarithms for one of your axes"
   ]
  },
  {
   "cell_type": "code",
   "execution_count": 124,
   "metadata": {},
   "outputs": [
    {
     "data": {
      "image/png": "[encoded data removed]",
      "text/plain": [
       "<matplotlib.figure.Figure at 0x7f2247521fd0>"
      ]
     },
     "metadata": {},
     "output_type": "display_data"
    }
   ],
   "source": [
    "plt.plot(sample_sizes, std_dev_of_sample_means);\n",
    "plt.ylim([0.000,0.550]);\n",
    "plt.xlabel(\"sample sizes\")\n",
    "plt.ylabel(\"standard deviaton of sample means\")\n",
    "plt.title(\"Standard Deviation over 200 replications\");\n",
    "plt.xscale('log');\n"
   ]
  },
  {
   "cell_type": "markdown",
   "metadata": {},
   "source": [
    "How does the standard error of the sample mean vary with sample size?\n",
    "\n",
    "As the sample size increases, the standard error decreases from the mean towards 0 and levels off.\n"
   ]
  }
 ],
 "metadata": {
  "anaconda-cloud": {},
  "kernelspec": {
   "display_name": "Python 3",
   "language": "python",
   "name": "python3"
  },
  "language_info": {
   "codemirror_mode": {
    "name": "ipython",
    "version": 3
   },
   "file_extension": ".py",
   "mimetype": "text/x-python",
   "name": "python",
   "nbconvert_exporter": "python",
   "pygments_lexer": "ipython3",
   "version": "3.6.1"
  }
 },
 "nbformat": 4,
 "nbformat_minor": 1
}
